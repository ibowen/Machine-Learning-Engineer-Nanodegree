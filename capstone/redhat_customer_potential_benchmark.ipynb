{
 "cells": [
  {
   "cell_type": "markdown",
   "metadata": {},
   "source": [
    "### Benchmark\n",
    "\n",
    "Considering the binary outcomes, we choose a dummy classifier to obtain the benchmark."
   ]
  },
  {
   "cell_type": "markdown",
   "metadata": {},
   "source": [
    "### Load train and test data"
   ]
  },
  {
   "cell_type": "code",
   "execution_count": 1,
   "metadata": {
    "collapsed": true
   },
   "outputs": [],
   "source": [
    "import pandas as pd\n",
    "import numpy as np\n",
    "\n",
    "import matplotlib.pylab as plt\n",
    "import seaborn as sns\n",
    "sns.set(color_codes=True)\n",
    "%matplotlib inline\n",
    "from matplotlib.pylab import rcParams\n",
    "rcParams['figure.figsize'] = 16, 4"
   ]
  },
  {
   "cell_type": "code",
   "execution_count": 2,
   "metadata": {
    "collapsed": false
   },
   "outputs": [
    {
     "name": "stdout",
     "output_type": "stream",
     "text": [
      "(2153346, 55) (498687, 14)\n"
     ]
    }
   ],
   "source": [
    "train_data = pd.read_csv('./data/train_data.csv', parse_dates=['date_act', 'date_ppl'])\n",
    "test_data = pd.read_csv('./data/act_test.csv', parse_dates=['date'])\n",
    "print train_data.shape, test_data.shape"
   ]
  },
  {
   "cell_type": "code",
   "execution_count": 3,
   "metadata": {
    "collapsed": false
   },
   "outputs": [
    {
     "data": {
      "text/plain": [
       "people_id                    object\n",
       "activity_id                  object\n",
       "date                 datetime64[ns]\n",
       "activity_category            object\n",
       "char_1                       object\n",
       "char_2                       object\n",
       "char_3                       object\n",
       "char_4                       object\n",
       "char_5                       object\n",
       "char_6                       object\n",
       "char_7                       object\n",
       "char_8                       object\n",
       "char_9                       object\n",
       "char_10                      object\n",
       "dtype: object"
      ]
     },
     "execution_count": 3,
     "metadata": {},
     "output_type": "execute_result"
    }
   ],
   "source": [
    "test_data.dtypes"
   ]
  },
  {
   "cell_type": "code",
   "execution_count": 4,
   "metadata": {
    "collapsed": false
   },
   "outputs": [
    {
     "data": {
      "text/html": [
       "<div>\n",
       "<table border=\"1\" class=\"dataframe\">\n",
       "  <thead>\n",
       "    <tr style=\"text-align: right;\">\n",
       "      <th></th>\n",
       "      <th>people_id</th>\n",
       "      <th>activity_id</th>\n",
       "      <th>date</th>\n",
       "      <th>activity_category</th>\n",
       "      <th>char_1</th>\n",
       "      <th>char_2</th>\n",
       "      <th>char_3</th>\n",
       "      <th>char_4</th>\n",
       "      <th>char_5</th>\n",
       "      <th>char_6</th>\n",
       "      <th>char_7</th>\n",
       "      <th>char_8</th>\n",
       "      <th>char_9</th>\n",
       "      <th>char_10</th>\n",
       "    </tr>\n",
       "  </thead>\n",
       "  <tbody>\n",
       "    <tr>\n",
       "      <th>0</th>\n",
       "      <td>ppl_100004</td>\n",
       "      <td>act1_249281</td>\n",
       "      <td>2022-07-20</td>\n",
       "      <td>type 1</td>\n",
       "      <td>type 5</td>\n",
       "      <td>type 10</td>\n",
       "      <td>type 5</td>\n",
       "      <td>type 1</td>\n",
       "      <td>type 6</td>\n",
       "      <td>type 1</td>\n",
       "      <td>type 1</td>\n",
       "      <td>type 7</td>\n",
       "      <td>type 4</td>\n",
       "      <td>NaN</td>\n",
       "    </tr>\n",
       "    <tr>\n",
       "      <th>1</th>\n",
       "      <td>ppl_100004</td>\n",
       "      <td>act2_230855</td>\n",
       "      <td>2022-07-20</td>\n",
       "      <td>type 5</td>\n",
       "      <td>NaN</td>\n",
       "      <td>NaN</td>\n",
       "      <td>NaN</td>\n",
       "      <td>NaN</td>\n",
       "      <td>NaN</td>\n",
       "      <td>NaN</td>\n",
       "      <td>NaN</td>\n",
       "      <td>NaN</td>\n",
       "      <td>NaN</td>\n",
       "      <td>type 682</td>\n",
       "    </tr>\n",
       "    <tr>\n",
       "      <th>2</th>\n",
       "      <td>ppl_10001</td>\n",
       "      <td>act1_240724</td>\n",
       "      <td>2022-10-14</td>\n",
       "      <td>type 1</td>\n",
       "      <td>type 12</td>\n",
       "      <td>type 1</td>\n",
       "      <td>type 5</td>\n",
       "      <td>type 4</td>\n",
       "      <td>type 6</td>\n",
       "      <td>type 1</td>\n",
       "      <td>type 1</td>\n",
       "      <td>type 13</td>\n",
       "      <td>type 10</td>\n",
       "      <td>NaN</td>\n",
       "    </tr>\n",
       "    <tr>\n",
       "      <th>3</th>\n",
       "      <td>ppl_10001</td>\n",
       "      <td>act1_83552</td>\n",
       "      <td>2022-11-27</td>\n",
       "      <td>type 1</td>\n",
       "      <td>type 20</td>\n",
       "      <td>type 10</td>\n",
       "      <td>type 5</td>\n",
       "      <td>type 4</td>\n",
       "      <td>type 6</td>\n",
       "      <td>type 1</td>\n",
       "      <td>type 1</td>\n",
       "      <td>type 5</td>\n",
       "      <td>type 5</td>\n",
       "      <td>NaN</td>\n",
       "    </tr>\n",
       "    <tr>\n",
       "      <th>4</th>\n",
       "      <td>ppl_10001</td>\n",
       "      <td>act2_1043301</td>\n",
       "      <td>2022-10-15</td>\n",
       "      <td>type 5</td>\n",
       "      <td>NaN</td>\n",
       "      <td>NaN</td>\n",
       "      <td>NaN</td>\n",
       "      <td>NaN</td>\n",
       "      <td>NaN</td>\n",
       "      <td>NaN</td>\n",
       "      <td>NaN</td>\n",
       "      <td>NaN</td>\n",
       "      <td>NaN</td>\n",
       "      <td>type 3015</td>\n",
       "    </tr>\n",
       "  </tbody>\n",
       "</table>\n",
       "</div>"
      ],
      "text/plain": [
       "    people_id   activity_id       date activity_category   char_1   char_2  \\\n",
       "0  ppl_100004   act1_249281 2022-07-20            type 1   type 5  type 10   \n",
       "1  ppl_100004   act2_230855 2022-07-20            type 5      NaN      NaN   \n",
       "2   ppl_10001   act1_240724 2022-10-14            type 1  type 12   type 1   \n",
       "3   ppl_10001    act1_83552 2022-11-27            type 1  type 20  type 10   \n",
       "4   ppl_10001  act2_1043301 2022-10-15            type 5      NaN      NaN   \n",
       "\n",
       "   char_3  char_4  char_5  char_6  char_7   char_8   char_9    char_10  \n",
       "0  type 5  type 1  type 6  type 1  type 1   type 7   type 4        NaN  \n",
       "1     NaN     NaN     NaN     NaN     NaN      NaN      NaN   type 682  \n",
       "2  type 5  type 4  type 6  type 1  type 1  type 13  type 10        NaN  \n",
       "3  type 5  type 4  type 6  type 1  type 1   type 5   type 5        NaN  \n",
       "4     NaN     NaN     NaN     NaN     NaN      NaN      NaN  type 3015  "
      ]
     },
     "execution_count": 4,
     "metadata": {},
     "output_type": "execute_result"
    }
   ],
   "source": [
    "test_data.head()"
   ]
  },
  {
   "cell_type": "markdown",
   "metadata": {},
   "source": [
    "### remove prefix of test data"
   ]
  },
  {
   "cell_type": "code",
   "execution_count": 5,
   "metadata": {
    "collapsed": true
   },
   "outputs": [],
   "source": [
    "def remove_prefix(char):\n",
    "    \"\"\"Remove the 'type' prefix of 'char_*' and 'activity_category'\n",
    "    \"\"\"\n",
    "    if char and str(char).startswith('type'):\n",
    "        return char[5:]\n",
    "    else:\n",
    "        return"
   ]
  },
  {
   "cell_type": "code",
   "execution_count": 6,
   "metadata": {
    "collapsed": false
   },
   "outputs": [
    {
     "name": "stdout",
     "output_type": "stream",
     "text": [
      "remove the prefix of feature: activity_category\n",
      "=======================================\n",
      "remove the prefix of feature: char_1\n",
      "=======================================\n",
      "remove the prefix of feature: char_10\n",
      "=======================================\n",
      "remove the prefix of feature: char_2\n",
      "=======================================\n",
      "remove the prefix of feature: char_3\n",
      "=======================================\n",
      "remove the prefix of feature: char_4\n",
      "=======================================\n",
      "remove the prefix of feature: char_5\n",
      "=======================================\n",
      "remove the prefix of feature: char_6\n",
      "=======================================\n",
      "remove the prefix of feature: char_7\n",
      "=======================================\n",
      "remove the prefix of feature: char_8\n",
      "=======================================\n",
      "remove the prefix of feature: char_9\n",
      "=======================================\n"
     ]
    }
   ],
   "source": [
    "for col in test_data.columns[test_data.dtypes == 'object'] - ['people_id', 'activity_id']:\n",
    "    print 'remove the prefix of feature: {}'.format(col)\n",
    "    test_data[col] = test_data[col].apply(remove_prefix)\n",
    "    print '======================================='"
   ]
  },
  {
   "cell_type": "markdown",
   "metadata": {},
   "source": [
    "### Fill na as '0' as we did in the train data"
   ]
  },
  {
   "cell_type": "code",
   "execution_count": 7,
   "metadata": {
    "collapsed": false
   },
   "outputs": [],
   "source": [
    "test_data.fillna(0, inplace=True)"
   ]
  },
  {
   "cell_type": "code",
   "execution_count": 8,
   "metadata": {
    "collapsed": false
   },
   "outputs": [
    {
     "data": {
      "text/plain": [
       "people_id            0\n",
       "activity_id          0\n",
       "date                 0\n",
       "activity_category    0\n",
       "char_1               0\n",
       "char_2               0\n",
       "char_3               0\n",
       "char_4               0\n",
       "char_5               0\n",
       "char_6               0\n",
       "char_7               0\n",
       "char_8               0\n",
       "char_9               0\n",
       "char_10              0\n",
       "dtype: int64"
      ]
     },
     "execution_count": 8,
     "metadata": {},
     "output_type": "execute_result"
    }
   ],
   "source": [
    "pd.isnull(test_data).sum()"
   ]
  },
  {
   "cell_type": "markdown",
   "metadata": {},
   "source": [
    "### Check the activity date in train and test data before splitting the dataset"
   ]
  },
  {
   "cell_type": "code",
   "execution_count": 12,
   "metadata": {
    "collapsed": false
   },
   "outputs": [
    {
     "data": {
      "text/plain": [
       "<matplotlib.axes._subplots.AxesSubplot at 0x10cbb1750>"
      ]
     },
     "execution_count": 12,
     "metadata": {},
     "output_type": "execute_result"
    },
    {
     "data": {
      "image/png": "[encoded data removed]",
      "text/plain": [
       "<matplotlib.figure.Figure at 0x10cbc5710>"
      ]
     },
     "metadata": {},
     "output_type": "display_data"
    }
   ],
   "source": [
    "train_data.date_act.hist()"
   ]
  },
  {
   "cell_type": "code",
   "execution_count": 13,
   "metadata": {
    "collapsed": false
   },
   "outputs": [
    {
     "data": {
      "text/plain": [
       "<matplotlib.axes._subplots.AxesSubplot at 0x10d2f7b50>"
      ]
     },
     "execution_count": 13,
     "metadata": {},
     "output_type": "execute_result"
    },
    {
     "data": {
      "image/png": "[encoded data removed]",
      "text/plain": [
       "<matplotlib.figure.Figure at 0x10cbd0210>"
      ]
     },
     "metadata": {},
     "output_type": "display_data"
    }
   ],
   "source": [
    "test_data.date.hist()"
   ]
  },
  {
   "cell_type": "markdown",
   "metadata": {
    "collapsed": true
   },
   "source": [
    "- The time series are similar for train and test data, so we don't need worry about time split of train data"
   ]
  },
  {
   "cell_type": "markdown",
   "metadata": {},
   "source": [
    "### split the train data into train and validation sets"
   ]
  },
  {
   "cell_type": "code",
   "execution_count": 59,
   "metadata": {
    "collapsed": true
   },
   "outputs": [],
   "source": [
    "from sklearn.cross_validation import KFold\n",
    "from sklearn.dummy import DummyClassifier\n",
    "# from sklearn.metrics import roc_auc_score, roc_curve, auc"
   ]
  },
  {
   "cell_type": "code",
   "execution_count": 37,
   "metadata": {
    "collapsed": false
   },
   "outputs": [],
   "source": [
    "kf = KFold(n=train_data.shape[0], n_folds=5, shuffle=True, random_state=1234)"
   ]
  },
  {
   "cell_type": "code",
   "execution_count": 61,
   "metadata": {
    "collapsed": false
   },
   "outputs": [
    {
     "name": "stdout",
     "output_type": "stream",
     "text": [
      "The mean accuracy: 0.554\n",
      "The mean accuracy: 0.556\n",
      "The mean accuracy: 0.557\n",
      "The mean accuracy: 0.556\n",
      "The mean accuracy: 0.557\n"
     ]
    }
   ],
   "source": [
    "clf = DummyClassifier(strategy='most_frequent',random_state=1234)\n",
    "for train_index, vali_index in kf:\n",
    "    X_train, X_vali = train_data[['activity_category', 'char_38']].loc[train_index], train_data[['activity_category', 'char_38']].loc[vali_index]\n",
    "#     print X_train.shape, X_vali.shape\n",
    "    y_train, y_vali = train_data.outcome[train_index], train_data.outcome[vali_index]\n",
    "#     print y_train.shape, y_vali.shape\n",
    "    clf.fit(X_train, y_train)\n",
    "    print 'The mean accuracy: {:.3f}'.format(clf.score(X_vali, y_vali))"
   ]
  },
  {
   "cell_type": "markdown",
   "metadata": {},
   "source": [
    "- The mean accuracy is around 0.56, it makes sense because 0 outcome accounts a little more for the total outcomes."
   ]
  },
  {
   "cell_type": "markdown",
   "metadata": {},
   "source": [
    "### In the following stage, we going to train a decison tree and a random forest to improve the performance"
   ]
  },
  {
   "cell_type": "markdown",
   "metadata": {},
   "source": [
    "### write out the test data"
   ]
  },
  {
   "cell_type": "code",
   "execution_count": 62,
   "metadata": {
    "collapsed": true
   },
   "outputs": [],
   "source": [
    "test_data.to_csv('./data/test_data.csv', index=False)"
   ]
  },
  {
   "cell_type": "code",
   "execution_count": null,
   "metadata": {
    "collapsed": true
   },
   "outputs": [],
   "source": []
  }
 ],
 "metadata": {
  "kernelspec": {
   "display_name": "Python 2",
   "language": "python",
   "name": "python2"
  },
  "language_info": {
   "codemirror_mode": {
    "name": "ipython",
    "version": 2
   },
   "file_extension": ".py",
   "mimetype": "text/x-python",
   "name": "python",
   "nbconvert_exporter": "python",
   "pygments_lexer": "ipython2",
   "version": "2.7.10"
  },
  "widgets": {
   "state": {},
   "version": "1.1.2"
  }
 },
 "nbformat": 4,
 "nbformat_minor": 0
}
