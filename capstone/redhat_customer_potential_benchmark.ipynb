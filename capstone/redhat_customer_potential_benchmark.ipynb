{
 "cells": [
  {
   "cell_type": "markdown",
   "metadata": {},
   "source": [
    "## Objective: use a dummy classifier to benchmark the baseline"
   ]
  },
  {
   "cell_type": "code",
   "execution_count": 3,
   "metadata": {
    "collapsed": true
   },
   "outputs": [],
   "source": [
    "import pandas as pd\n",
    "import numpy as np\n",
    "\n",
    "import matplotlib.pylab as plt\n",
    "import seaborn as sns\n",
    "sns.set(color_codes=True)\n",
    "%matplotlib inline\n",
    "from matplotlib.pylab import rcParams\n",
    "rcParams['figure.figsize'] = 16, 4"
   ]
  },
  {
   "cell_type": "markdown",
   "metadata": {},
   "source": [
    "### Load train and test data"
   ]
  },
  {
   "cell_type": "code",
   "execution_count": 21,
   "metadata": {
    "collapsed": false
   },
   "outputs": [
    {
     "name": "stdout",
     "output_type": "stream",
     "text": [
      "(2153346, 55) (498687, 54)\n"
     ]
    }
   ],
   "source": [
    "train_data = pd.read_csv('./data/train_data.csv', parse_dates=['date_act', 'date_ppl'])\n",
    "test_data = pd.read_csv('./data/test_data.csv', parse_dates=['date_act', 'date_ppl'])\n",
    "print train_data.shape, test_data.shape"
   ]
  },
  {
   "cell_type": "code",
   "execution_count": 22,
   "metadata": {
    "collapsed": false
   },
   "outputs": [
    {
     "data": {
      "text/plain": [
       "people_id                    object\n",
       "activity_id                  object\n",
       "date_act             datetime64[ns]\n",
       "activity_category             int64\n",
       "char_1_act                    int64\n",
       "char_2_act                    int64\n",
       "char_3_act                    int64\n",
       "char_4_act                    int64\n",
       "char_5_act                    int64\n",
       "char_6_act                    int64\n",
       "char_7_act                    int64\n",
       "char_8_act                    int64\n",
       "char_9_act                    int64\n",
       "char_10_act                   int64\n",
       "char_1_ppl                    int64\n",
       "group_1                       int64\n",
       "char_2_ppl                    int64\n",
       "date_ppl             datetime64[ns]\n",
       "char_3_ppl                    int64\n",
       "char_4_ppl                    int64\n",
       "char_5_ppl                    int64\n",
       "char_6_ppl                    int64\n",
       "char_7_ppl                    int64\n",
       "char_8_ppl                    int64\n",
       "char_9_ppl                    int64\n",
       "char_10_ppl                    bool\n",
       "char_11                        bool\n",
       "char_12                        bool\n",
       "char_13                        bool\n",
       "char_14                        bool\n",
       "char_15                        bool\n",
       "char_16                        bool\n",
       "char_17                        bool\n",
       "char_18                        bool\n",
       "char_19                        bool\n",
       "char_20                        bool\n",
       "char_21                        bool\n",
       "char_22                        bool\n",
       "char_23                        bool\n",
       "char_24                        bool\n",
       "char_25                        bool\n",
       "char_26                        bool\n",
       "char_27                        bool\n",
       "char_28                        bool\n",
       "char_29                        bool\n",
       "char_30                        bool\n",
       "char_31                        bool\n",
       "char_32                        bool\n",
       "char_33                        bool\n",
       "char_34                        bool\n",
       "char_35                        bool\n",
       "char_36                        bool\n",
       "char_37                        bool\n",
       "char_38                       int64\n",
       "dtype: object"
      ]
     },
     "execution_count": 22,
     "metadata": {},
     "output_type": "execute_result"
    }
   ],
   "source": [
    "test_data.dtypes"
   ]
  },
  {
   "cell_type": "code",
   "execution_count": 23,
   "metadata": {
    "collapsed": false
   },
   "outputs": [
    {
     "data": {
      "text/html": [
       "<div>\n",
       "<table border=\"1\" class=\"dataframe\">\n",
       "  <thead>\n",
       "    <tr style=\"text-align: right;\">\n",
       "      <th></th>\n",
       "      <th>people_id</th>\n",
       "      <th>activity_id</th>\n",
       "      <th>date_act</th>\n",
       "      <th>activity_category</th>\n",
       "      <th>char_1_act</th>\n",
       "      <th>char_2_act</th>\n",
       "      <th>char_3_act</th>\n",
       "      <th>char_4_act</th>\n",
       "      <th>char_5_act</th>\n",
       "      <th>char_6_act</th>\n",
       "      <th>...</th>\n",
       "      <th>char_29</th>\n",
       "      <th>char_30</th>\n",
       "      <th>char_31</th>\n",
       "      <th>char_32</th>\n",
       "      <th>char_33</th>\n",
       "      <th>char_34</th>\n",
       "      <th>char_35</th>\n",
       "      <th>char_36</th>\n",
       "      <th>char_37</th>\n",
       "      <th>char_38</th>\n",
       "    </tr>\n",
       "  </thead>\n",
       "  <tbody>\n",
       "    <tr>\n",
       "      <th>0</th>\n",
       "      <td>ppl_100004</td>\n",
       "      <td>act1_249281</td>\n",
       "      <td>2022-07-20</td>\n",
       "      <td>1</td>\n",
       "      <td>5</td>\n",
       "      <td>10</td>\n",
       "      <td>5</td>\n",
       "      <td>1</td>\n",
       "      <td>6</td>\n",
       "      <td>1</td>\n",
       "      <td>...</td>\n",
       "      <td>True</td>\n",
       "      <td>True</td>\n",
       "      <td>True</td>\n",
       "      <td>True</td>\n",
       "      <td>True</td>\n",
       "      <td>True</td>\n",
       "      <td>True</td>\n",
       "      <td>True</td>\n",
       "      <td>True</td>\n",
       "      <td>76</td>\n",
       "    </tr>\n",
       "    <tr>\n",
       "      <th>1</th>\n",
       "      <td>ppl_100004</td>\n",
       "      <td>act2_230855</td>\n",
       "      <td>2022-07-20</td>\n",
       "      <td>5</td>\n",
       "      <td>0</td>\n",
       "      <td>0</td>\n",
       "      <td>0</td>\n",
       "      <td>0</td>\n",
       "      <td>0</td>\n",
       "      <td>0</td>\n",
       "      <td>...</td>\n",
       "      <td>True</td>\n",
       "      <td>True</td>\n",
       "      <td>True</td>\n",
       "      <td>True</td>\n",
       "      <td>True</td>\n",
       "      <td>True</td>\n",
       "      <td>True</td>\n",
       "      <td>True</td>\n",
       "      <td>True</td>\n",
       "      <td>76</td>\n",
       "    </tr>\n",
       "    <tr>\n",
       "      <th>2</th>\n",
       "      <td>ppl_10001</td>\n",
       "      <td>act1_240724</td>\n",
       "      <td>2022-10-14</td>\n",
       "      <td>1</td>\n",
       "      <td>12</td>\n",
       "      <td>1</td>\n",
       "      <td>5</td>\n",
       "      <td>4</td>\n",
       "      <td>6</td>\n",
       "      <td>1</td>\n",
       "      <td>...</td>\n",
       "      <td>False</td>\n",
       "      <td>True</td>\n",
       "      <td>True</td>\n",
       "      <td>True</td>\n",
       "      <td>True</td>\n",
       "      <td>True</td>\n",
       "      <td>True</td>\n",
       "      <td>True</td>\n",
       "      <td>True</td>\n",
       "      <td>90</td>\n",
       "    </tr>\n",
       "    <tr>\n",
       "      <th>3</th>\n",
       "      <td>ppl_10001</td>\n",
       "      <td>act1_83552</td>\n",
       "      <td>2022-11-27</td>\n",
       "      <td>1</td>\n",
       "      <td>20</td>\n",
       "      <td>10</td>\n",
       "      <td>5</td>\n",
       "      <td>4</td>\n",
       "      <td>6</td>\n",
       "      <td>1</td>\n",
       "      <td>...</td>\n",
       "      <td>False</td>\n",
       "      <td>True</td>\n",
       "      <td>True</td>\n",
       "      <td>True</td>\n",
       "      <td>True</td>\n",
       "      <td>True</td>\n",
       "      <td>True</td>\n",
       "      <td>True</td>\n",
       "      <td>True</td>\n",
       "      <td>90</td>\n",
       "    </tr>\n",
       "    <tr>\n",
       "      <th>4</th>\n",
       "      <td>ppl_10001</td>\n",
       "      <td>act2_1043301</td>\n",
       "      <td>2022-10-15</td>\n",
       "      <td>5</td>\n",
       "      <td>0</td>\n",
       "      <td>0</td>\n",
       "      <td>0</td>\n",
       "      <td>0</td>\n",
       "      <td>0</td>\n",
       "      <td>0</td>\n",
       "      <td>...</td>\n",
       "      <td>False</td>\n",
       "      <td>True</td>\n",
       "      <td>True</td>\n",
       "      <td>True</td>\n",
       "      <td>True</td>\n",
       "      <td>True</td>\n",
       "      <td>True</td>\n",
       "      <td>True</td>\n",
       "      <td>True</td>\n",
       "      <td>90</td>\n",
       "    </tr>\n",
       "  </tbody>\n",
       "</table>\n",
       "<p>5 rows × 54 columns</p>\n",
       "</div>"
      ],
      "text/plain": [
       "    people_id   activity_id   date_act  activity_category  char_1_act  \\\n",
       "0  ppl_100004   act1_249281 2022-07-20                  1           5   \n",
       "1  ppl_100004   act2_230855 2022-07-20                  5           0   \n",
       "2   ppl_10001   act1_240724 2022-10-14                  1          12   \n",
       "3   ppl_10001    act1_83552 2022-11-27                  1          20   \n",
       "4   ppl_10001  act2_1043301 2022-10-15                  5           0   \n",
       "\n",
       "   char_2_act  char_3_act  char_4_act  char_5_act  char_6_act   ...     \\\n",
       "0          10           5           1           6           1   ...      \n",
       "1           0           0           0           0           0   ...      \n",
       "2           1           5           4           6           1   ...      \n",
       "3          10           5           4           6           1   ...      \n",
       "4           0           0           0           0           0   ...      \n",
       "\n",
       "   char_29  char_30  char_31  char_32  char_33  char_34  char_35 char_36  \\\n",
       "0     True     True     True     True     True     True     True    True   \n",
       "1     True     True     True     True     True     True     True    True   \n",
       "2    False     True     True     True     True     True     True    True   \n",
       "3    False     True     True     True     True     True     True    True   \n",
       "4    False     True     True     True     True     True     True    True   \n",
       "\n",
       "   char_37  char_38  \n",
       "0     True       76  \n",
       "1     True       76  \n",
       "2     True       90  \n",
       "3     True       90  \n",
       "4     True       90  \n",
       "\n",
       "[5 rows x 54 columns]"
      ]
     },
     "execution_count": 23,
     "metadata": {},
     "output_type": "execute_result"
    }
   ],
   "source": [
    "test_data.head()"
   ]
  },
  {
   "cell_type": "code",
   "execution_count": 24,
   "metadata": {
    "collapsed": false
   },
   "outputs": [
    {
     "data": {
      "text/plain": [
       "people_id            0\n",
       "activity_id          0\n",
       "date_act             0\n",
       "activity_category    0\n",
       "char_1_act           0\n",
       "char_2_act           0\n",
       "char_3_act           0\n",
       "char_4_act           0\n",
       "char_5_act           0\n",
       "char_6_act           0\n",
       "char_7_act           0\n",
       "char_8_act           0\n",
       "char_9_act           0\n",
       "char_10_act          0\n",
       "char_1_ppl           0\n",
       "group_1              0\n",
       "char_2_ppl           0\n",
       "date_ppl             0\n",
       "char_3_ppl           0\n",
       "char_4_ppl           0\n",
       "char_5_ppl           0\n",
       "char_6_ppl           0\n",
       "char_7_ppl           0\n",
       "char_8_ppl           0\n",
       "char_9_ppl           0\n",
       "char_10_ppl          0\n",
       "char_11              0\n",
       "char_12              0\n",
       "char_13              0\n",
       "char_14              0\n",
       "char_15              0\n",
       "char_16              0\n",
       "char_17              0\n",
       "char_18              0\n",
       "char_19              0\n",
       "char_20              0\n",
       "char_21              0\n",
       "char_22              0\n",
       "char_23              0\n",
       "char_24              0\n",
       "char_25              0\n",
       "char_26              0\n",
       "char_27              0\n",
       "char_28              0\n",
       "char_29              0\n",
       "char_30              0\n",
       "char_31              0\n",
       "char_32              0\n",
       "char_33              0\n",
       "char_34              0\n",
       "char_35              0\n",
       "char_36              0\n",
       "char_37              0\n",
       "char_38              0\n",
       "dtype: int64"
      ]
     },
     "execution_count": 24,
     "metadata": {},
     "output_type": "execute_result"
    }
   ],
   "source": [
    "pd.isnull(test_data).sum()"
   ]
  },
  {
   "cell_type": "markdown",
   "metadata": {},
   "source": [
    "### Check the activity date in train and test data before splitting the dataset"
   ]
  },
  {
   "cell_type": "code",
   "execution_count": 9,
   "metadata": {
    "collapsed": false
   },
   "outputs": [
    {
     "data": {
      "text/plain": [
       "<matplotlib.axes._subplots.AxesSubplot at 0x105f91090>"
      ]
     },
     "execution_count": 9,
     "metadata": {},
     "output_type": "execute_result"
    },
    {
     "data": {
      "image/png": "[encoded data removed]",
      "text/plain": [
       "<matplotlib.figure.Figure at 0x105fa9450>"
      ]
     },
     "metadata": {},
     "output_type": "display_data"
    }
   ],
   "source": [
    "train_data.date_act.hist()"
   ]
  },
  {
   "cell_type": "code",
   "execution_count": 25,
   "metadata": {
    "collapsed": false
   },
   "outputs": [
    {
     "data": {
      "text/plain": [
       "<matplotlib.axes._subplots.AxesSubplot at 0x10cbd7810>"
      ]
     },
     "execution_count": 25,
     "metadata": {},
     "output_type": "execute_result"
    },
    {
     "data": {
      "image/png": "[encoded data removed]",
      "text/plain": [
       "<matplotlib.figure.Figure at 0x179418990>"
      ]
     },
     "metadata": {},
     "output_type": "display_data"
    }
   ],
   "source": [
    "test_data.date_act.hist()"
   ]
  },
  {
   "cell_type": "markdown",
   "metadata": {},
   "source": [
    "### Check the people date in train and test data before splitting the dataset"
   ]
  },
  {
   "cell_type": "code",
   "execution_count": 26,
   "metadata": {
    "collapsed": false
   },
   "outputs": [
    {
     "data": {
      "text/plain": [
       "<matplotlib.axes._subplots.AxesSubplot at 0x128718790>"
      ]
     },
     "execution_count": 26,
     "metadata": {},
     "output_type": "execute_result"
    },
    {
     "data": {
      "image/png": "[encoded data removed]",
      "text/plain": [
       "<matplotlib.figure.Figure at 0x13a3aa2d0>"
      ]
     },
     "metadata": {},
     "output_type": "display_data"
    }
   ],
   "source": [
    "train_data.date_ppl.hist()"
   ]
  },
  {
   "cell_type": "code",
   "execution_count": 27,
   "metadata": {
    "collapsed": false
   },
   "outputs": [
    {
     "data": {
      "text/plain": [
       "<matplotlib.axes._subplots.AxesSubplot at 0x12992b090>"
      ]
     },
     "execution_count": 27,
     "metadata": {},
     "output_type": "execute_result"
    },
    {
     "data": {
      "image/png": "[encoded data removed]",
      "text/plain": [
       "<matplotlib.figure.Figure at 0x12a08dfd0>"
      ]
     },
     "metadata": {},
     "output_type": "display_data"
    }
   ],
   "source": [
    "test_data.date_ppl.hist()"
   ]
  },
  {
   "cell_type": "markdown",
   "metadata": {
    "collapsed": true
   },
   "source": [
    "- The time series are similar for train and test data, so we don't need worry about time split of train data"
   ]
  },
  {
   "cell_type": "markdown",
   "metadata": {},
   "source": [
    "### split the train data into train and validation sets"
   ]
  },
  {
   "cell_type": "code",
   "execution_count": 16,
   "metadata": {
    "collapsed": true
   },
   "outputs": [],
   "source": [
    "from sklearn.cross_validation import KFold\n",
    "from sklearn.dummy import DummyClassifier\n",
    "# from sklearn.metrics import roc_auc_score, roc_curve, auc"
   ]
  },
  {
   "cell_type": "code",
   "execution_count": 17,
   "metadata": {
    "collapsed": false
   },
   "outputs": [],
   "source": [
    "kf = KFold(n=train_data.shape[0], n_folds=5, shuffle=True, random_state=1234)"
   ]
  },
  {
   "cell_type": "code",
   "execution_count": 18,
   "metadata": {
    "collapsed": false
   },
   "outputs": [
    {
     "name": "stdout",
     "output_type": "stream",
     "text": [
      "The mean accuracy: 0.554\n",
      "The mean accuracy: 0.556\n",
      "The mean accuracy: 0.557\n",
      "The mean accuracy: 0.556\n",
      "The mean accuracy: 0.557\n"
     ]
    }
   ],
   "source": [
    "clf = DummyClassifier(strategy='most_frequent',random_state=1234)\n",
    "for train_index, vali_index in kf:\n",
    "    X_train, X_vali = train_data[['activity_category', 'char_38']].loc[train_index], train_data[['activity_category', 'char_38']].loc[vali_index]\n",
    "#     print X_train.shape, X_vali.shape\n",
    "    y_train, y_vali = train_data.outcome[train_index], train_data.outcome[vali_index]\n",
    "#     print y_train.shape, y_vali.shape\n",
    "    clf.fit(X_train, y_train)\n",
    "    print 'The mean accuracy: {:.3f}'.format(clf.score(X_vali, y_vali))"
   ]
  },
  {
   "cell_type": "markdown",
   "metadata": {},
   "source": [
    "- The mean accuracy is around 0.56, it makes sense because 0 outcome accounts a little more for the total outcomes."
   ]
  },
  {
   "cell_type": "markdown",
   "metadata": {},
   "source": [
    "### In the following stage, we going to train a decison tree and a random forest to improve the performance"
   ]
  }
 ],
 "metadata": {
  "kernelspec": {
   "display_name": "Python 2",
   "language": "python",
   "name": "python2"
  },
  "language_info": {
   "codemirror_mode": {
    "name": "ipython",
    "version": 2
   },
   "file_extension": ".py",
   "mimetype": "text/x-python",
   "name": "python",
   "nbconvert_exporter": "python",
   "pygments_lexer": "ipython2",
   "version": "2.7.10"
  },
  "widgets": {
   "state": {},
   "version": "1.1.2"
  }
 },
 "nbformat": 4,
 "nbformat_minor": 0
}
