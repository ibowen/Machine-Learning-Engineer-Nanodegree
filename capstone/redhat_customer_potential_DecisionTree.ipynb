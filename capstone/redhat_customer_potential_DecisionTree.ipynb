{
 "cells": [
  {
   "cell_type": "markdown",
   "metadata": {},
   "source": [
    "## Objective: use decision tree to improve the performance"
   ]
  },
  {
   "cell_type": "code",
   "execution_count": 1,
   "metadata": {
    "collapsed": true
   },
   "outputs": [],
   "source": [
    "import pandas as pd\n",
    "import numpy as np\n",
    "import matplotlib.pylab as plt\n",
    "import seaborn as sns\n",
    "sns.set(color_codes=True)\n",
    "%matplotlib inline\n",
    "from matplotlib.pylab import rcParams\n",
    "rcParams['figure.figsize'] = 16, 4"
   ]
  },
  {
   "cell_type": "markdown",
   "metadata": {},
   "source": [
    "### Load train and test data"
   ]
  },
  {
   "cell_type": "code",
   "execution_count": 2,
   "metadata": {
    "collapsed": false
   },
   "outputs": [
    {
     "name": "stdout",
     "output_type": "stream",
     "text": [
      "(2153346, 55) (498687, 54)\n"
     ]
    }
   ],
   "source": [
    "train_data = pd.read_csv('./data/train_data.csv', parse_dates=['date_act', 'date_ppl'])\n",
    "test_data = pd.read_csv('./data/test_data.csv', parse_dates=['date_act', 'date_ppl'])\n",
    "print train_data.shape, test_data.shape"
   ]
  },
  {
   "cell_type": "markdown",
   "metadata": {},
   "source": [
    "### Concatenate train and test data for preprocessing"
   ]
  },
  {
   "cell_type": "code",
   "execution_count": 39,
   "metadata": {
    "collapsed": true
   },
   "outputs": [],
   "source": [
    "meta_cols = dict() # contain the column types\n",
    "col_types = train_data.dtypes "
   ]
  },
  {
   "cell_type": "code",
   "execution_count": 40,
   "metadata": {
    "collapsed": false
   },
   "outputs": [],
   "source": [
    "meta_cols['bool'] = list(col_types[col_types=='bool'].index)\n",
    "meta_cols['numeric'] = list(col_types[col_types=='int64'].index.drop('outcome'))\n",
    "meta_cols['datetime'] = list(col_types[col_types=='datetime64[ns]'].index)\n",
    "meta_cols['index'] = list(col_types[col_types=='object'].index)\n",
    "meta_cols['label'] = ['outcome']"
   ]
  },
  {
   "cell_type": "code",
   "execution_count": 41,
   "metadata": {
    "collapsed": false
   },
   "outputs": [
    {
     "data": {
      "text/plain": [
       "{'bool': ['char_10_ppl',\n",
       "  'char_11',\n",
       "  'char_12',\n",
       "  'char_13',\n",
       "  'char_14',\n",
       "  'char_15',\n",
       "  'char_16',\n",
       "  'char_17',\n",
       "  'char_18',\n",
       "  'char_19',\n",
       "  'char_20',\n",
       "  'char_21',\n",
       "  'char_22',\n",
       "  'char_23',\n",
       "  'char_24',\n",
       "  'char_25',\n",
       "  'char_26',\n",
       "  'char_27',\n",
       "  'char_28',\n",
       "  'char_29',\n",
       "  'char_30',\n",
       "  'char_31',\n",
       "  'char_32',\n",
       "  'char_33',\n",
       "  'char_34',\n",
       "  'char_35',\n",
       "  'char_36',\n",
       "  'char_37'],\n",
       " 'datetime': ['date_act', 'date_ppl'],\n",
       " 'index': ['people_id', 'activity_id'],\n",
       " 'label': ['outcome'],\n",
       " 'numeric': ['activity_category',\n",
       "  'char_1_act',\n",
       "  'char_2_act',\n",
       "  'char_3_act',\n",
       "  'char_4_act',\n",
       "  'char_5_act',\n",
       "  'char_6_act',\n",
       "  'char_7_act',\n",
       "  'char_8_act',\n",
       "  'char_9_act',\n",
       "  'char_10_act',\n",
       "  'char_1_ppl',\n",
       "  'group_1',\n",
       "  'char_2_ppl',\n",
       "  'char_3_ppl',\n",
       "  'char_4_ppl',\n",
       "  'char_5_ppl',\n",
       "  'char_6_ppl',\n",
       "  'char_7_ppl',\n",
       "  'char_8_ppl',\n",
       "  'char_9_ppl',\n",
       "  'char_38']}"
      ]
     },
     "execution_count": 41,
     "metadata": {},
     "output_type": "execute_result"
    }
   ],
   "source": [
    "meta_cols"
   ]
  },
  {
   "cell_type": "code",
   "execution_count": 42,
   "metadata": {
    "collapsed": false
   },
   "outputs": [],
   "source": [
    "full_data = pd.concat([\n",
    "                    train_data[meta_cols['index'] + meta_cols['datetime'] + meta_cols['numeric'] + meta_cols['bool'] + meta_cols['label']]\n",
    "                    , test_data[meta_cols['index'] + meta_cols['datetime'] + meta_cols['numeric'] + meta_cols['bool']]\n",
    "                      ])"
   ]
  },
  {
   "cell_type": "markdown",
   "metadata": {},
   "source": [
    "### Transform bool vales into binary 0 or 1"
   ]
  },
  {
   "cell_type": "code",
   "execution_count": 43,
   "metadata": {
    "collapsed": false
   },
   "outputs": [
    {
     "name": "stdout",
     "output_type": "stream",
     "text": [
      "bool 2 binary : char_10_ppl\n",
      "-------------------------------\n",
      "bool 2 binary : char_11\n",
      "-------------------------------\n",
      "bool 2 binary : char_12\n",
      "-------------------------------\n",
      "bool 2 binary : char_13\n",
      "-------------------------------\n",
      "bool 2 binary : char_14\n",
      "-------------------------------\n",
      "bool 2 binary : char_15\n",
      "-------------------------------\n",
      "bool 2 binary : char_16\n",
      "-------------------------------\n",
      "bool 2 binary : char_17\n",
      "-------------------------------\n",
      "bool 2 binary : char_18\n",
      "-------------------------------\n",
      "bool 2 binary : char_19\n",
      "-------------------------------\n",
      "bool 2 binary : char_20\n",
      "-------------------------------\n",
      "bool 2 binary : char_21\n",
      "-------------------------------\n",
      "bool 2 binary : char_22\n",
      "-------------------------------\n",
      "bool 2 binary : char_23\n",
      "-------------------------------\n",
      "bool 2 binary : char_24\n",
      "-------------------------------\n",
      "bool 2 binary : char_25\n",
      "-------------------------------\n",
      "bool 2 binary : char_26\n",
      "-------------------------------\n",
      "bool 2 binary : char_27\n",
      "-------------------------------\n",
      "bool 2 binary : char_28\n",
      "-------------------------------\n",
      "bool 2 binary : char_29\n",
      "-------------------------------\n",
      "bool 2 binary : char_30\n",
      "-------------------------------\n",
      "bool 2 binary : char_31\n",
      "-------------------------------\n",
      "bool 2 binary : char_32\n",
      "-------------------------------\n",
      "bool 2 binary : char_33\n",
      "-------------------------------\n",
      "bool 2 binary : char_34\n",
      "-------------------------------\n",
      "bool 2 binary : char_35\n",
      "-------------------------------\n",
      "bool 2 binary : char_36\n",
      "-------------------------------\n",
      "bool 2 binary : char_37\n",
      "-------------------------------\n",
      "transformation is completed... ...\n"
     ]
    }
   ],
   "source": [
    "for col in meta_cols['bool']:\n",
    "    print 'bool 2 binary : {}'.format(col)\n",
    "    full_data[col] = full_data[col].apply(lambda x : int(x == True))\n",
    "    print '-------------------------------'\n",
    "print 'transformation is completed... ...'"
   ]
  },
  {
   "cell_type": "code",
   "execution_count": 45,
   "metadata": {
    "collapsed": false
   },
   "outputs": [
    {
     "data": {
      "text/plain": [
       "['index', 'label', 'numeric', 'datetime']"
      ]
     },
     "execution_count": 45,
     "metadata": {},
     "output_type": "execute_result"
    }
   ],
   "source": [
    "meta_cols['numeric'] = meta_cols['numeric'] + meta_cols['bool']\n",
    "meta_cols.pop('bool', None)\n",
    "meta_cols.keys()"
   ]
  },
  {
   "cell_type": "markdown",
   "metadata": {},
   "source": [
    "### Add year, month, week, day, dayofweek from datetime features"
   ]
  },
  {
   "cell_type": "code",
   "execution_count": 46,
   "metadata": {
    "collapsed": true
   },
   "outputs": [],
   "source": [
    "full_data['date_act_year'] = full_data.date_act.dt.year\n",
    "full_data['date_act_month'] = full_data.date_act.dt.month\n",
    "full_data['date_act_week'] = full_data.date_act.dt.week\n",
    "full_data['date_act_day'] = full_data.date_act.dt.day\n",
    "full_data['date_act_dayofweek'] = full_data.date_act.dt.dayofweek"
   ]
  },
  {
   "cell_type": "code",
   "execution_count": 47,
   "metadata": {
    "collapsed": true
   },
   "outputs": [],
   "source": [
    "full_data['date_ppl_year'] = full_data.date_ppl.dt.year\n",
    "full_data['date_ppl_month'] = full_data.date_ppl.dt.month\n",
    "full_data['date_ppl_week'] = full_data.date_ppl.dt.week\n",
    "full_data['date_ppl_day'] = full_data.date_ppl.dt.day\n",
    "full_data['date_ppl_dayofweek'] = full_data.date_ppl.dt.dayofweek"
   ]
  },
  {
   "cell_type": "code",
   "execution_count": 48,
   "metadata": {
    "collapsed": true
   },
   "outputs": [],
   "source": [
    "# drop the raw date\n",
    "full_data.drop(['date_act', 'date_ppl'], axis=1, inplace=True)"
   ]
  },
  {
   "cell_type": "code",
   "execution_count": 49,
   "metadata": {
    "collapsed": false
   },
   "outputs": [],
   "source": [
    "meta_cols['datetime'] = ['date_act_year', 'date_act_month', 'date_act_week', 'date_act_day', 'date_act_dayofweek', 'date_ppl_year', 'date_ppl_month', 'date_ppl_week', 'date_ppl_day', 'date_ppl_dayofweek']"
   ]
  },
  {
   "cell_type": "code",
   "execution_count": 50,
   "metadata": {
    "collapsed": false
   },
   "outputs": [
    {
     "data": {
      "text/plain": [
       "['date_act_year',\n",
       " 'date_act_month',\n",
       " 'date_act_week',\n",
       " 'date_act_day',\n",
       " 'date_act_dayofweek',\n",
       " 'date_ppl_year',\n",
       " 'date_ppl_month',\n",
       " 'date_ppl_week',\n",
       " 'date_ppl_day',\n",
       " 'date_ppl_dayofweek']"
      ]
     },
     "execution_count": 50,
     "metadata": {},
     "output_type": "execute_result"
    }
   ],
   "source": [
    "meta_cols['datetime']"
   ]
  },
  {
   "cell_type": "code",
   "execution_count": 51,
   "metadata": {
    "collapsed": false
   },
   "outputs": [
    {
     "data": {
      "text/plain": [
       "['index', 'label', 'numeric', 'datetime']"
      ]
     },
     "execution_count": 51,
     "metadata": {},
     "output_type": "execute_result"
    }
   ],
   "source": [
    "meta_cols.keys()"
   ]
  },
  {
   "cell_type": "markdown",
   "metadata": {},
   "source": [
    "### split out the train and test data"
   ]
  },
  {
   "cell_type": "code",
   "execution_count": 52,
   "metadata": {
    "collapsed": true
   },
   "outputs": [],
   "source": [
    "train_data = full_data.iloc[:len(train_data)]\n",
    "test_data = full_data.iloc[len(train_data):]"
   ]
  },
  {
   "cell_type": "code",
   "execution_count": 54,
   "metadata": {
    "collapsed": false
   },
   "outputs": [
    {
     "name": "stdout",
     "output_type": "stream",
     "text": [
      "(2153346, 63) (498687, 63)\n"
     ]
    }
   ],
   "source": [
    "print train_data.shape, test_data.shape"
   ]
  },
  {
   "cell_type": "code",
   "execution_count": 56,
   "metadata": {
    "collapsed": false,
    "scrolled": true
   },
   "outputs": [
    {
     "data": {
      "text/plain": [
       "2153341    1.0\n",
       "2153342    1.0\n",
       "2153343    1.0\n",
       "2153344    1.0\n",
       "2153345    1.0\n",
       "Name: outcome, dtype: float64"
      ]
     },
     "execution_count": 56,
     "metadata": {},
     "output_type": "execute_result"
    }
   ],
   "source": [
    "train_data.outcome.tail()"
   ]
  },
  {
   "cell_type": "code",
   "execution_count": 57,
   "metadata": {
    "collapsed": false
   },
   "outputs": [
    {
     "data": {
      "text/plain": [
       "0   NaN\n",
       "1   NaN\n",
       "2   NaN\n",
       "3   NaN\n",
       "4   NaN\n",
       "Name: outcome, dtype: float64"
      ]
     },
     "execution_count": 57,
     "metadata": {},
     "output_type": "execute_result"
    }
   ],
   "source": [
    "test_data.outcome.head()"
   ]
  },
  {
   "cell_type": "code",
   "execution_count": 58,
   "metadata": {
    "collapsed": true
   },
   "outputs": [],
   "source": [
    "# write out the data set ready for modeling\n",
    "train_data.to_csv('./data/train_data2.csv', index=False)\n",
    "test_data.to_csv('./data/test_data2.csv', index=False) "
   ]
  },
  {
   "cell_type": "markdown",
   "metadata": {},
   "source": [
    "### Decision Tree Classification"
   ]
  },
  {
   "cell_type": "code",
   "execution_count": 99,
   "metadata": {
    "collapsed": false
   },
   "outputs": [],
   "source": [
    "from sklearn.tree import DecisionTreeClassifier\n",
    "from sklearn.metrics import roc_auc_score, roc_curve, accuracy_score\n",
    "from sklearn.cross_validation import cross_val_score\n",
    "import time"
   ]
  },
  {
   "cell_type": "code",
   "execution_count": 81,
   "metadata": {
    "collapsed": true
   },
   "outputs": [],
   "source": [
    "predictors = meta_cols['numeric'] + meta_cols['datetime']\n",
    "label = meta_cols['label']"
   ]
  },
  {
   "cell_type": "code",
   "execution_count": 120,
   "metadata": {
    "collapsed": true
   },
   "outputs": [],
   "source": [
    "def model_fit(estimator, train_data, predictors, label, cv=True, cv_folds=3):\n",
    "    \"\"\"template to fit model and output score(accuracy and roc_auc), feature importance, and running time\n",
    "    label: need to be string\n",
    "    \"\"\"\n",
    "    start_time = time.time()\n",
    "    # fit the model on the train data\n",
    "    estimator.fit(train_data[predictors], train_data[label])\n",
    "        \n",
    "    # predict train data\n",
    "    preds = estimator.predict(train_data[predictors])\n",
    "    preds_proba = estimator.predict_proba(train_data[predictors])[:,1]\n",
    "    \n",
    "    # if true, perform cross-validation:\n",
    "    if cv:\n",
    "        cv_score = cross_val_score(estimator, train_data[predictors], train_data[label], cv=cv_folds, scoring='roc_auc')\n",
    "    \n",
    "    # report scores\n",
    "    print \"\\nModel Scores:\"\n",
    "    print \"Accuracy : {:.7f}\".format(accuracy_score(train_data[label].values, preds))\n",
    "    print \"AUC Score (Train): {:.7f}\".format(roc_auc_score(train_data[label], preds_proba))\n",
    "    \n",
    "    if cv:\n",
    "        print \"CV Scores : Mean - {:.7f} | Std - {:.7f} | Min - {:.7f} | Max - {:.7f}\".format(np.mean(cv_score),np.std(cv_score),np.min(cv_score),np.max(cv_score))\n",
    "        \n",
    "    # report feature importance\n",
    "    feature_importance = pd.Series(estimator.feature_importances_, predictors).sort_values(ascending=False)\n",
    "    feature_importance.plot(kind='bar', title='Feature Importances')\n",
    "    plt.ylabel('Feature Importance Score')\n",
    "        \n",
    "    # report running time\n",
    "    print \"--- {} seconds ---\".format(time.time() - start_time)"
   ]
  },
  {
   "cell_type": "code",
   "execution_count": 122,
   "metadata": {
    "collapsed": false
   },
   "outputs": [
    {
     "name": "stdout",
     "output_type": "stream",
     "text": [
      "\n",
      "Model Scores:\n",
      "Accuracy : 1.0000000\n",
      "AUC Score (Train): 1.0000000\n",
      "CV Scores : Mean - 0.8291524 | Std - 0.0267254 | Min - 0.7913967 | Max - 0.8495318\n",
      "--- 98.6898400784 seconds ---\n"
     ]
    },
    {
     "data": {
      "image/png": "[encoded data removed]",
      "text/plain": [
       "<matplotlib.figure.Figure at 0x10c6768d0>"
      ]
     },
     "metadata": {},
     "output_type": "display_data"
    }
   ],
   "source": [
    "clf = DecisionTreeClassifier(random_state=1234)\n",
    "model_fit(clf, train_data, predictors, label[0])"
   ]
  },
  {
   "cell_type": "markdown",
   "metadata": {},
   "source": [
    "- There is apparent overfitting in the train set prediction.\n",
    "- CV scores of decision tree improved from 0.56 to 0.83\n",
    "- 'char_38', 'group_1', and 'char_7_ppl' are top 3 featrues"
   ]
  },
  {
   "cell_type": "markdown",
   "metadata": {},
   "source": [
    "### In the next stage, we continue to improve the performance using Random Forest and Gradient Boosting"
   ]
  }
 ],
 "metadata": {
  "kernelspec": {
   "display_name": "Python 2",
   "language": "python",
   "name": "python2"
  },
  "language_info": {
   "codemirror_mode": {
    "name": "ipython",
    "version": 2
   },
   "file_extension": ".py",
   "mimetype": "text/x-python",
   "name": "python",
   "nbconvert_exporter": "python",
   "pygments_lexer": "ipython2",
   "version": "2.7.10"
  },
  "widgets": {
   "state": {},
   "version": "1.1.2"
  }
 },
 "nbformat": 4,
 "nbformat_minor": 0
}
