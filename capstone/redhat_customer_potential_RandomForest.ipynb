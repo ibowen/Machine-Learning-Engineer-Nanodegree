{
 "cells": [
  {
   "cell_type": "markdown",
   "metadata": {},
   "source": [
    "## Objective: continue to improve performance using random forest"
   ]
  },
  {
   "cell_type": "code",
   "execution_count": 1,
   "metadata": {
    "collapsed": true
   },
   "outputs": [],
   "source": [
    "import pandas as pd\n",
    "import numpy as np\n",
    "import matplotlib.pylab as plt\n",
    "import seaborn as sns\n",
    "sns.set(color_codes=True)\n",
    "%matplotlib inline\n",
    "from matplotlib.pylab import rcParams\n",
    "rcParams['figure.figsize'] = 16, 4"
   ]
  },
  {
   "cell_type": "code",
   "execution_count": 20,
   "metadata": {
    "collapsed": true
   },
   "outputs": [],
   "source": [
    "from sklearn.metrics import roc_auc_score, roc_curve, accuracy_score\n",
    "from sklearn.cross_validation import cross_val_score\n",
    "import time"
   ]
  },
  {
   "cell_type": "markdown",
   "metadata": {},
   "source": [
    "### Load train and test data"
   ]
  },
  {
   "cell_type": "code",
   "execution_count": 2,
   "metadata": {
    "collapsed": false
   },
   "outputs": [
    {
     "name": "stdout",
     "output_type": "stream",
     "text": [
      "(2153346, 63) (498687, 63)\n"
     ]
    }
   ],
   "source": [
    "train_data = pd.read_csv('./data/train_data2.csv')\n",
    "test_data = pd.read_csv('./data/test_data2.csv')\n",
    "print train_data.shape, test_data.shape"
   ]
  },
  {
   "cell_type": "code",
   "execution_count": 27,
   "metadata": {
    "collapsed": false
   },
   "outputs": [],
   "source": [
    "predictors = list(train_data.columns.drop(['people_id', 'activity_id', 'outcome']))\n",
    "label = 'outcome'"
   ]
  },
  {
   "cell_type": "code",
   "execution_count": 28,
   "metadata": {
    "collapsed": true
   },
   "outputs": [],
   "source": [
    "def model_fit(estimator, train_data, predictors, label, cv=True, cv_folds=3):\n",
    "    \"\"\"\n",
    "    template to fit model and output score(accuracy and roc_auc), feature importance, and running time\n",
    "    label: need to be string\n",
    "    \"\"\"\n",
    "    start_time = time.time()\n",
    "    # fit the model on the train data\n",
    "    estimator.fit(train_data[predictors], train_data[label])\n",
    "        \n",
    "    # predict train data\n",
    "    preds = estimator.predict(train_data[predictors])\n",
    "    preds_proba = estimator.predict_proba(train_data[predictors])[:,1]\n",
    "    \n",
    "    # if true, perform cross-validation:\n",
    "    if cv:\n",
    "        cv_score = cross_val_score(estimator, train_data[predictors], train_data[label], cv=cv_folds, scoring='roc_auc')\n",
    "    \n",
    "    # report scores\n",
    "    print \"\\nModel Scores:\"\n",
    "    print \"Accuracy : {:.7f}\".format(accuracy_score(train_data[label].values, preds))\n",
    "    print \"AUC Score (Train): {:.7f}\".format(roc_auc_score(train_data[label], preds_proba))\n",
    "    \n",
    "    if cv:\n",
    "        print \"CV Scores : Mean - {:.7f} | Std - {:.7f} | Min - {:.7f} | Max - {:.7f}\".format(np.mean(cv_score),np.std(cv_score),np.min(cv_score),np.max(cv_score))\n",
    "        \n",
    "    # report feature importance\n",
    "    feature_importance = pd.Series(estimator.feature_importances_, predictors).sort_values(ascending=False)\n",
    "    feature_importance.plot(kind='bar', title='Feature Importances')\n",
    "    plt.ylabel('Feature Importance Score')\n",
    "        \n",
    "    # report running time\n",
    "    print \"--- {} seconds ---\".format(time.time() - start_time)"
   ]
  },
  {
   "cell_type": "markdown",
   "metadata": {},
   "source": [
    "### Show the baseline of random forest using default settings"
   ]
  },
  {
   "cell_type": "code",
   "execution_count": 29,
   "metadata": {
    "collapsed": true
   },
   "outputs": [],
   "source": [
    "from sklearn.ensemble import RandomForestClassifier\n",
    "from sklearn.grid_search import GridSearchCV"
   ]
  },
  {
   "cell_type": "code",
   "execution_count": 31,
   "metadata": {
    "collapsed": true
   },
   "outputs": [],
   "source": [
    "clf = RandomForestClassifier(random_state=1234)"
   ]
  },
  {
   "cell_type": "code",
   "execution_count": 32,
   "metadata": {
    "collapsed": false
   },
   "outputs": [
    {
     "name": "stdout",
     "output_type": "stream",
     "text": [
      "\n",
      "Model Scores:\n",
      "Accuracy : 0.9998207\n",
      "AUC Score (Train): 0.9999997\n",
      "CV Scores : Mean - 0.9327848 | Std - 0.0069999 | Min - 0.9230716 | Max - 0.9392961\n",
      "--- 138.023171186 seconds ---\n"
     ]
    },
    {
     "data": {
      "image/png": "[encoded data removed]",
      "text/plain": [
       "<matplotlib.figure.Figure at 0x10f65c990>"
      ]
     },
     "metadata": {},
     "output_type": "display_data"
    }
   ],
   "source": [
    "model_fit(clf, train_data, predictors, label)"
   ]
  },
  {
   "cell_type": "markdown",
   "metadata": {},
   "source": [
    "- We can find the CV score improves from 0.83(in previous decision tree) to 0.93\n",
    "- More features show importance compared with the decision tree"
   ]
  },
  {
   "cell_type": "markdown",
   "metadata": {},
   "source": [
    "### Grid search on the random forest"
   ]
  },
  {
   "cell_type": "code",
   "execution_count": 44,
   "metadata": {
    "collapsed": true
   },
   "outputs": [],
   "source": [
    "param = {'n_estimators' : range(4,17,2),# around the default 10\n",
    "        'max_features' : [7,8,9], # around sqrt(len(n_features))\n",
    "        'criterion' : ['gini', 'entropy'] # try two criterion\n",
    "         }"
   ]
  },
  {
   "cell_type": "code",
   "execution_count": 47,
   "metadata": {
    "collapsed": true
   },
   "outputs": [],
   "source": [
    "grid_search = GridSearchCV(estimator = RandomForestClassifier(random_state=1234), \n",
    "                    param_grid = param, \n",
    "                    scoring='roc_auc',\n",
    "                    n_jobs=4,\n",
    "                    iid=False, \n",
    "                    cv=3)"
   ]
  },
  {
   "cell_type": "code",
   "execution_count": 48,
   "metadata": {
    "collapsed": false
   },
   "outputs": [
    {
     "data": {
      "text/plain": [
       "GridSearchCV(cv=3, error_score='raise',\n",
       "       estimator=RandomForestClassifier(bootstrap=True, class_weight=None, criterion='gini',\n",
       "            max_depth=None, max_features='auto', max_leaf_nodes=None,\n",
       "            min_samples_leaf=1, min_samples_split=2,\n",
       "            min_weight_fraction_leaf=0.0, n_estimators=10, n_jobs=1,\n",
       "            oob_score=False, random_state=1234, verbose=0,\n",
       "            warm_start=False),\n",
       "       fit_params={}, iid=False, n_jobs=4,\n",
       "       param_grid={'n_estimators': [4, 6, 8, 10, 12, 14, 16], 'max_features': [7, 8, 9], 'criterion': ['gini', 'entropy']},\n",
       "       pre_dispatch='2*n_jobs', refit=True, scoring='roc_auc', verbose=0)"
      ]
     },
     "execution_count": 48,
     "metadata": {},
     "output_type": "execute_result"
    }
   ],
   "source": [
    "grid_search.fit(train_data[predictors], train_data[label])"
   ]
  },
  {
   "cell_type": "code",
   "execution_count": 49,
   "metadata": {
    "collapsed": false
   },
   "outputs": [
    {
     "data": {
      "text/plain": [
       "(RandomForestClassifier(bootstrap=True, class_weight=None, criterion='entropy',\n",
       "             max_depth=None, max_features=8, max_leaf_nodes=None,\n",
       "             min_samples_leaf=1, min_samples_split=2,\n",
       "             min_weight_fraction_leaf=0.0, n_estimators=16, n_jobs=1,\n",
       "             oob_score=False, random_state=1234, verbose=0,\n",
       "             warm_start=False),\n",
       " {'criterion': 'entropy', 'max_features': 8, 'n_estimators': 16},\n",
       " 0.94447701655550043)"
      ]
     },
     "execution_count": 49,
     "metadata": {},
     "output_type": "execute_result"
    }
   ],
   "source": [
    "grid_search.best_estimator_, grid_search.best_params_, grid_search.best_score_"
   ]
  },
  {
   "cell_type": "markdown",
   "metadata": {},
   "source": [
    "### try bigger 'n_estimators' since 16 is the upper boundary"
   ]
  },
  {
   "cell_type": "code",
   "execution_count": 57,
   "metadata": {
    "collapsed": false
   },
   "outputs": [],
   "source": [
    "param2 = {\n",
    "    'n_estimators' : [16, 20, 30]\n",
    "}"
   ]
  },
  {
   "cell_type": "code",
   "execution_count": 58,
   "metadata": {
    "collapsed": true
   },
   "outputs": [],
   "source": [
    "grid_search2 = GridSearchCV(estimator = RandomForestClassifier(random_state=1234, max_features=8, criterion='entropy'), \n",
    "                    param_grid = param2, \n",
    "                    scoring='roc_auc',\n",
    "                    n_jobs=4,\n",
    "                    iid=False, \n",
    "                    cv=3)"
   ]
  },
  {
   "cell_type": "code",
   "execution_count": 59,
   "metadata": {
    "collapsed": false
   },
   "outputs": [
    {
     "data": {
      "text/plain": [
       "GridSearchCV(cv=3, error_score='raise',\n",
       "       estimator=RandomForestClassifier(bootstrap=True, class_weight=None, criterion='entropy',\n",
       "            max_depth=None, max_features=8, max_leaf_nodes=None,\n",
       "            min_samples_leaf=1, min_samples_split=2,\n",
       "            min_weight_fraction_leaf=0.0, n_estimators=10, n_jobs=1,\n",
       "            oob_score=False, random_state=1234, verbose=0,\n",
       "            warm_start=False),\n",
       "       fit_params={}, iid=False, n_jobs=4,\n",
       "       param_grid={'n_estimators': [16, 20, 30]}, pre_dispatch='2*n_jobs',\n",
       "       refit=True, scoring='roc_auc', verbose=0)"
      ]
     },
     "execution_count": 59,
     "metadata": {},
     "output_type": "execute_result"
    }
   ],
   "source": [
    "grid_search2.fit(train_data[predictors], train_data[label])"
   ]
  },
  {
   "cell_type": "code",
   "execution_count": 60,
   "metadata": {
    "collapsed": false
   },
   "outputs": [
    {
     "data": {
      "text/plain": [
       "(RandomForestClassifier(bootstrap=True, class_weight=None, criterion='entropy',\n",
       "             max_depth=None, max_features=8, max_leaf_nodes=None,\n",
       "             min_samples_leaf=1, min_samples_split=2,\n",
       "             min_weight_fraction_leaf=0.0, n_estimators=30, n_jobs=1,\n",
       "             oob_score=False, random_state=1234, verbose=0,\n",
       "             warm_start=False), {'n_estimators': 30}, 0.94995858731083427)"
      ]
     },
     "execution_count": 60,
     "metadata": {},
     "output_type": "execute_result"
    }
   ],
   "source": [
    "grid_search2.best_estimator_, grid_search2.best_params_, grid_search2.best_score_"
   ]
  },
  {
   "cell_type": "markdown",
   "metadata": {},
   "source": [
    "### Thegrid search gives us 0.9499 with more estimators. For the simplicity, we are going to stop here"
   ]
  },
  {
   "cell_type": "markdown",
   "metadata": {},
   "source": [
    "### fit the model with parameters from grid search"
   ]
  },
  {
   "cell_type": "code",
   "execution_count": 64,
   "metadata": {
    "collapsed": false,
    "scrolled": true
   },
   "outputs": [
    {
     "name": "stdout",
     "output_type": "stream",
     "text": [
      "\n",
      "Model Scores:\n",
      "Accuracy : 0.9998579\n",
      "AUC Score (Train): 0.9999994\n",
      "CV Scores : Mean - 0.9514702 | Std - 0.0009007 | Min - 0.9507635 | Max - 0.9527413\n",
      "--- 346.560657024 seconds ---\n"
     ]
    },
    {
     "data": {
      "image/png": "[encoded data removed]",
      "text/plain": [
       "<matplotlib.figure.Figure at 0x10d9e5690>"
      ]
     },
     "metadata": {},
     "output_type": "display_data"
    }
   ],
   "source": [
    "model_fit(RandomForestClassifier(n_estimators=10, max_features=30, criterion='entropy'), train_data, predictors, label)"
   ]
  },
  {
   "cell_type": "markdown",
   "metadata": {},
   "source": [
    "- It shows that cv score improves up to 0.95, and more time consuming\n",
    "- The feature importance goes back to top features"
   ]
  },
  {
   "cell_type": "code",
   "execution_count": null,
   "metadata": {
    "collapsed": true
   },
   "outputs": [],
   "source": []
  }
 ],
 "metadata": {
  "kernelspec": {
   "display_name": "Python 2",
   "language": "python",
   "name": "python2"
  },
  "language_info": {
   "codemirror_mode": {
    "name": "ipython",
    "version": 2
   },
   "file_extension": ".py",
   "mimetype": "text/x-python",
   "name": "python",
   "nbconvert_exporter": "python",
   "pygments_lexer": "ipython2",
   "version": "2.7.10"
  },
  "widgets": {
   "state": {},
   "version": "1.1.2"
  }
 },
 "nbformat": 4,
 "nbformat_minor": 0
}
